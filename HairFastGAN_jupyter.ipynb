{
  "cells": [
    {
      "cell_type": "markdown",
      "metadata": {
        "id": "view-in-github"
      },
      "source": [
        "[![Open In Colab](https://colab.research.google.com/assets/colab-badge.svg)](https://colab.research.google.com/github/camenduru/HairFastGAN-jupyter/blob/main/HairFastGAN_jupyter.ipynb)"
      ]
    },
    {
      "cell_type": "code",
      "execution_count": null,
      "metadata": {
        "id": "VjYy0F2gZIPR"
      },
      "outputs": [],
      "source": [
        "%cd /content\n",
        "!git clone -b dev https://github.com/camenduru/HairFastGAN\n",
        "%cd /content/HairFastGAN\n",
        "\n",
        "!pip install -q ninja face_alignment dill==0.2.7.1 addict fpie git+https://github.com/openai/CLIP.git\n",
        "\n",
        "!apt -y install -qq aria2\n",
        "!aria2c --console-log-level=error -c -x 16 -s 16 -k 1M https://huggingface.co/AIRI-Institute/HairFastGAN/resolve/main/pretrained_models/ArcFace/backbone_ir50.pth -d /content/HairFastGAN/pretrained_models/ArcFace -o backbone_ir50.pth\n",
        "!aria2c --console-log-level=error -c -x 16 -s 16 -k 1M https://huggingface.co/AIRI-Institute/HairFastGAN/resolve/main/pretrained_models/ArcFace/backbone_r100.pth -d /content/HairFastGAN/pretrained_models/ArcFace -o backbone_r100.pth\n",
        "!aria2c --console-log-level=error -c -x 16 -s 16 -k 1M https://huggingface.co/AIRI-Institute/HairFastGAN/resolve/main/pretrained_models/ArcFace/ir_se50.pth -d /content/HairFastGAN/pretrained_models/ArcFace -o ir_se50.pth\n",
        "!aria2c --console-log-level=error -c -x 16 -s 16 -k 1M https://huggingface.co/AIRI-Institute/HairFastGAN/resolve/main/pretrained_models/BiSeNet/face_parsing_79999_iter.pth -d /content/HairFastGAN/pretrained_models/BiSeNet -o face_parsing_79999_iter.pth\n",
        "!aria2c --console-log-level=error -c -x 16 -s 16 -k 1M https://huggingface.co/AIRI-Institute/HairFastGAN/resolve/main/pretrained_models/BiSeNet/seg.pth -d /content/HairFastGAN/pretrained_models/BiSeNet -o seg.pth\n",
        "!aria2c --console-log-level=error -c -x 16 -s 16 -k 1M https://huggingface.co/AIRI-Institute/HairFastGAN/resolve/main/pretrained_models/Blending/checkpoint.pth -d /content/HairFastGAN/pretrained_models/Blending -o checkpoint.pth\n",
        "!aria2c --console-log-level=error -c -x 16 -s 16 -k 1M https://huggingface.co/AIRI-Institute/HairFastGAN/resolve/main/pretrained_models/Blending/checkpoint_old.pth -d /content/HairFastGAN/pretrained_models/Blending -o checkpoint_old.pth\n",
        "!aria2c --console-log-level=error -c -x 16 -s 16 -k 1M https://huggingface.co/AIRI-Institute/HairFastGAN/resolve/main/pretrained_models/Blending/checkpoint_old2.pth -d /content/HairFastGAN/pretrained_models/Blending -o checkpoint_old2.pth\n",
        "!aria2c --console-log-level=error -c -x 16 -s 16 -k 1M https://huggingface.co/AIRI-Institute/HairFastGAN/resolve/main/pretrained_models/FeatureStyleEncoder/143_enc.pth -d /content/HairFastGAN/pretrained_models/FeatureStyleEncoder -o 143_enc.pth\n",
        "!aria2c --console-log-level=error -c -x 16 -s 16 -k 1M https://huggingface.co/AIRI-Institute/HairFastGAN/resolve/main/pretrained_models/FeatureStyleEncoder/79999_iter.pth -d /content/HairFastGAN/pretrained_models/FeatureStyleEncoder -o 79999_iter.pth\n",
        "!aria2c --console-log-level=error -c -x 16 -s 16 -k 1M https://huggingface.co/AIRI-Institute/HairFastGAN/resolve/main/pretrained_models/FeatureStyleEncoder/backbone.pth -d /content/HairFastGAN/pretrained_models/FeatureStyleEncoder -o backbone.pth\n",
        "!aria2c --console-log-level=error -c -x 16 -s 16 -k 1M https://huggingface.co/AIRI-Institute/HairFastGAN/resolve/main/pretrained_models/FeatureStyleEncoder/psp_ffhq_encode.pt -d /content/HairFastGAN/pretrained_models/FeatureStyleEncoder -o psp_ffhq_encode.pt\n",
        "!aria2c --console-log-level=error -c -x 16 -s 16 -k 1M https://huggingface.co/AIRI-Institute/HairFastGAN/resolve/main/pretrained_models/PostProcess/latent_avg.pt -d /content/HairFastGAN/pretrained_models/PostProcess -o latent_avg.pt\n",
        "!aria2c --console-log-level=error -c -x 16 -s 16 -k 1M https://huggingface.co/AIRI-Institute/HairFastGAN/resolve/main/pretrained_models/PostProcess/pp_model.pth -d /content/HairFastGAN/pretrained_models/PostProcess -o pp_model.pth\n",
        "!aria2c --console-log-level=error -c -x 16 -s 16 -k 1M https://huggingface.co/AIRI-Institute/HairFastGAN/resolve/main/pretrained_models/Rotate/rotate_best.pth -d /content/HairFastGAN/pretrained_models/Rotate -o rotate_best.pth\n",
        "!aria2c --console-log-level=error -c -x 16 -s 16 -k 1M https://huggingface.co/AIRI-Institute/HairFastGAN/resolve/main/pretrained_models/STAR/WFLW_STARLoss_NME_4_02_FR_2_32_AUC_0_605.pkl -d /content/HairFastGAN/pretrained_models -o STAR/WFLW_STARLoss_NME_4_02_FR_2_32_AUC_0_605.pkl\n",
        "!aria2c --console-log-level=error -c -x 16 -s 16 -k 1M https://huggingface.co/AIRI-Institute/HairFastGAN/resolve/main/pretrained_models/ShapeAdaptor/mask_generator.pth -d /content/HairFastGAN/pretrained_models/ShapeAdaptor -o mask_generator.pth\n",
        "!aria2c --console-log-level=error -c -x 16 -s 16 -k 1M https://huggingface.co/AIRI-Institute/HairFastGAN/resolve/main/pretrained_models/ShapeAdaptor/shape_predictor_68_face_landmarks.dat -d /content/HairFastGAN/pretrained_models/ShapeAdaptor -o shape_predictor_68_face_landmarks.dat\n",
        "!aria2c --console-log-level=error -c -x 16 -s 16 -k 1M https://huggingface.co/AIRI-Institute/HairFastGAN/resolve/main/pretrained_models/StyleGAN/ffhq.pkl -d /content/HairFastGAN/pretrained_models/StyleGAN -o ffhq.pkl\n",
        "!aria2c --console-log-level=error -c -x 16 -s 16 -k 1M https://huggingface.co/AIRI-Institute/HairFastGAN/resolve/main/pretrained_models/StyleGAN/ffhq.pt -d /content/HairFastGAN/pretrained_models/StyleGAN -o ffhq.pt\n",
        "!aria2c --console-log-level=error -c -x 16 -s 16 -k 1M https://huggingface.co/AIRI-Institute/HairFastGAN/resolve/main/pretrained_models/StyleGAN/ffhq_PCA.npz -d /content/HairFastGAN/pretrained_models/StyleGAN -o ffhq_PCA.npz\n",
        "!aria2c --console-log-level=error -c -x 16 -s 16 -k 1M https://huggingface.co/AIRI-Institute/HairFastGAN/resolve/main/pretrained_models/encoder4editing/e4e_ffhq_encode.pt -d /content/HairFastGAN/pretrained_models/encoder4editing -o e4e_ffhq_encode.pt\n",
        "!aria2c --console-log-level=error -c -x 16 -s 16 -k 1M https://huggingface.co/AIRI-Institute/HairFastGAN/resolve/main/pretrained_models/sean_checkpoints/CelebA-HQ_pretrained/latest_net_D.pth -d /content/HairFastGAN/pretrained_models/sean_checkpoints/CelebA-HQ_pretrained -o latest_net_D.pth\n",
        "!aria2c --console-log-level=error -c -x 16 -s 16 -k 1M https://huggingface.co/AIRI-Institute/HairFastGAN/resolve/main/pretrained_models/sean_checkpoints/CelebA-HQ_pretrained/latest_net_G.pth -d /content/HairFastGAN/pretrained_models/sean_checkpoints/CelebA-HQ_pretrained -o latest_net_G.pth\n",
        "\n",
        "!aria2c --console-log-level=error -c -x 16 -s 16 -k 1M https://huggingface.co/AIRI-Institute/HairFastGAN/resolve/main/input/0.png -d /content/HairFastGAN/input -o 0.png\n",
        "!aria2c --console-log-level=error -c -x 16 -s 16 -k 1M https://huggingface.co/AIRI-Institute/HairFastGAN/resolve/main/input/1.png -d /content/HairFastGAN/input -o 1.png\n",
        "!aria2c --console-log-level=error -c -x 16 -s 16 -k 1M https://huggingface.co/AIRI-Institute/HairFastGAN/resolve/main/input/2.png -d /content/HairFastGAN/input -o 2.png\n",
        "!aria2c --console-log-level=error -c -x 16 -s 16 -k 1M https://huggingface.co/AIRI-Institute/HairFastGAN/resolve/main/input/3.jpg -d /content/HairFastGAN/input -o 3.jpg\n",
        "!aria2c --console-log-level=error -c -x 16 -s 16 -k 1M https://huggingface.co/AIRI-Institute/HairFastGAN/resolve/main/input/4.jpg -d /content/HairFastGAN/input -o 4.jpg\n",
        "!aria2c --console-log-level=error -c -x 16 -s 16 -k 1M https://huggingface.co/AIRI-Institute/HairFastGAN/resolve/main/input/5.jpg -d /content/HairFastGAN/input -o 5.jpg\n",
        "!aria2c --console-log-level=error -c -x 16 -s 16 -k 1M https://huggingface.co/AIRI-Institute/HairFastGAN/resolve/main/input/6.png -d /content/HairFastGAN/input -o 6.png\n",
        "!aria2c --console-log-level=error -c -x 16 -s 16 -k 1M https://huggingface.co/AIRI-Institute/HairFastGAN/resolve/main/input/7.png -d /content/HairFastGAN/input -o 7.png\n",
        "!aria2c --console-log-level=error -c -x 16 -s 16 -k 1M https://huggingface.co/AIRI-Institute/HairFastGAN/resolve/main/input/8.png -d /content/HairFastGAN/input -o 8.png"
      ]
    },
    {
      "cell_type": "code",
      "execution_count": null,
      "metadata": {},
      "outputs": [],
      "source": [
        "%cd /content/HairFastGAN\n",
        "from hair_swap import HairFast, get_parser\n",
        "model_args = get_parser()\n",
        "hair_fast = HairFast(model_args.parse_args([]))\n",
        "face_path = '/content/HairFastGAN/input/6.png'\n",
        "shape_path = '/content/HairFastGAN/input/7.png'\n",
        "color_path = '/content/HairFastGAN/input/8.png'\n",
        "final_image = hair_fast.swap(face_path, shape_path, color_path)\n",
        "# T.functional.to_pil_image(final_image).resize((512, 512))  # 1024 -> 512\n",
        "import torchvision.transforms as transforms\n",
        "image_pil = transforms.ToPILImage()(final_image)\n",
        "image_pil.save(\"/content/final_image.png\")\n",
        "image_pil"
      ]
    },
    {
      "cell_type": "code",
      "execution_count": null,
      "metadata": {},
      "outputs": [],
      "source": [
        "from copy import copy, deepcopy\n",
        "from models.Blending import Blending\n",
        "new_args = model_args.parse_args(['--blending_checkpoint', 'pretrained_models/Blending/checkpoint_old2.pth'])\n",
        "hair_fast2 = copy(hair_fast)\n",
        "hair_fast2.blend = Blending(new_args, net=hair_fast2.net)\n",
        "\n",
        "face_path = '/content/HairFastGAN/input/6.png'\n",
        "shape_path = '/content/HairFastGAN/input/7.png'\n",
        "color_path = '/content/HairFastGAN/input/8.png'\n",
        "final_image = hair_fast2.swap(face_path, shape_path, color_path)\n",
        "import torchvision.transforms as transforms\n",
        "image_pil = transforms.ToPILImage()(final_image)\n",
        "image_pil.save(\"/content/final_image.png\")\n",
        "image_pil"
      ]
    }
  ],
  "metadata": {
    "accelerator": "GPU",
    "colab": {
      "gpuType": "T4",
      "provenance": []
    },
    "kernelspec": {
      "display_name": "Python 3",
      "name": "python3"
    },
    "language_info": {
      "name": "python"
    }
  },
  "nbformat": 4,
  "nbformat_minor": 0
}
